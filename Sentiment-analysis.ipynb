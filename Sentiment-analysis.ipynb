{
 "cells": [
  {
   "cell_type": "code",
   "execution_count": 1,
   "id": "408c5a05-8a3a-4194-bf34-8288d4ea6683",
   "metadata": {},
   "outputs": [
    {
     "name": "stdout",
     "output_type": "stream",
     "text": [
      "Python version used for this analysis is:  3.9.12\n"
     ]
    }
   ],
   "source": [
    "from platform import python_version\n",
    "print(\"Python version used for this analysis is: \", python_version())"
   ]
  },
  {
   "cell_type": "code",
   "execution_count": 2,
   "id": "69277c01-7c28-4e1b-8b41-30b4d0985cc7",
   "metadata": {},
   "outputs": [],
   "source": [
    "#Loading python libraries\n",
    "import sys\n",
    "import os\n",
    "\n",
    "#loading Scikit-learn\n",
    "import sklearn\n",
    "from sklearn import preprocessing\n",
    "from sklearn.preprocessing import OneHotEncoder\n",
    "from sklearn import model_selection\n",
    "from sklearn.model_selection import train_test_split\n",
    "import re\n",
    "import tensorflow as tf\n",
    "import keras\n",
    "\n",
    "from tensorflow import keras\n",
    "from keras import preprocessing\n",
    "\n",
    "from tensorflow.keras.preprocessing.text import Tokenizer\n",
    "from tensorflow.keras.callbacks import EarlyStopping\n",
    "from tensorflow.keras.models import load_model\n",
    "from tensorflow.keras.layers import LSTM, Dropout, Dense, Embedding\n",
    "from tensorflow.keras.models import Sequential\n",
    "from tensorflow.keras.preprocessing.sequence import pad_sequences"
   ]
  },
  {
   "cell_type": "code",
   "execution_count": 3,
   "id": "d6f38915-3503-4996-9211-78c79c12c872",
   "metadata": {},
   "outputs": [
    {
     "name": "stderr",
     "output_type": "stream",
     "text": [
      "[nltk_data] Downloading package stopwords to\n",
      "[nltk_data]     C:\\Users\\Masey\\AppData\\Roaming\\nltk_data...\n",
      "[nltk_data]   Package stopwords is already up-to-date!\n",
      "[nltk_data] Downloading package punkt to\n",
      "[nltk_data]     C:\\Users\\Masey\\AppData\\Roaming\\nltk_data...\n",
      "[nltk_data]   Package punkt is already up-to-date!\n",
      "[nltk_data] Downloading package wordnet to\n",
      "[nltk_data]     C:\\Users\\Masey\\AppData\\Roaming\\nltk_data...\n",
      "[nltk_data]   Package wordnet is already up-to-date!\n",
      "[nltk_data] Downloading package omw-1.4 to\n",
      "[nltk_data]     C:\\Users\\Masey\\AppData\\Roaming\\nltk_data...\n",
      "[nltk_data]   Package omw-1.4 is already up-to-date!\n"
     ]
    },
    {
     "data": {
      "text/plain": [
       "True"
      ]
     },
     "execution_count": 3,
     "metadata": {},
     "output_type": "execute_result"
    }
   ],
   "source": [
    "import pandas as pd\n",
    "import numpy as np\n",
    "import re\n",
    "import nltk\n",
    "\n",
    "import matplotlib.pyplot as plt\n",
    "\n",
    "from nltk.corpus import stopwords\n",
    "from nltk import word_tokenize\n",
    "from nltk.stem import PorterStemmer\n",
    "nltk.download ('stopwords')\n",
    "nltk.download ('punkt')\n",
    "nltk.download ('wordnet')\n",
    "nltk.download('omw-1.4')"
   ]
  },
  {
   "cell_type": "code",
   "execution_count": 4,
   "id": "b76f63de-2be0-4c91-9140-490710375196",
   "metadata": {},
   "outputs": [],
   "source": [
    "df = pd.read_csv('yelp_labelled.txt', names=['review', 'sentiment'], sep='\\t')"
   ]
  },
  {
   "cell_type": "code",
   "execution_count": 5,
   "id": "26a0473e-4946-4f0b-8432-9f3dbe81d75f",
   "metadata": {},
   "outputs": [
    {
     "data": {
      "text/plain": [
       "(1000, 2)"
      ]
     },
     "execution_count": 5,
     "metadata": {},
     "output_type": "execute_result"
    }
   ],
   "source": [
    "df.shape"
   ]
  },
  {
   "cell_type": "code",
   "execution_count": 6,
   "id": "38fa7506-4d24-428e-ab58-15e43f138085",
   "metadata": {},
   "outputs": [
    {
     "data": {
      "text/plain": [
       "1    500\n",
       "0    500\n",
       "Name: sentiment, dtype: int64"
      ]
     },
     "execution_count": 6,
     "metadata": {},
     "output_type": "execute_result"
    }
   ],
   "source": [
    "df['sentiment'].value_counts()"
   ]
  },
  {
   "cell_type": "code",
   "execution_count": 7,
   "id": "dff61395-edd9-4239-a981-37655ae51c90",
   "metadata": {},
   "outputs": [
    {
     "name": "stdout",
     "output_type": "stream",
     "text": [
      "<class 'pandas.core.frame.DataFrame'>\n",
      "RangeIndex: 1000 entries, 0 to 999\n",
      "Data columns (total 2 columns):\n",
      " #   Column     Non-Null Count  Dtype \n",
      "---  ------     --------------  ----- \n",
      " 0   review     1000 non-null   object\n",
      " 1   sentiment  1000 non-null   int64 \n",
      "dtypes: int64(1), object(1)\n",
      "memory usage: 15.8+ KB\n"
     ]
    }
   ],
   "source": [
    "df.info()"
   ]
  },
  {
   "cell_type": "code",
   "execution_count": 8,
   "id": "9b0d10eb-7eff-497c-afc9-fa2dca15dd38",
   "metadata": {},
   "outputs": [
    {
     "name": "stdout",
     "output_type": "stream",
     "text": [
      "['W', 'o', 'w', '.', ' ', 'L', 'v', 'e', 'd', 't', 'h', 'i', 's', 'p', 'l', 'a', 'c', 'C', 'r', 'u', 'n', 'g', 'N', 'y', 'x', 'j', 'S', 'b', 'M', 'k', 'f', 'R', 'm', 'T', 'I', 'H', \"'\", 'A', ')', ',', '!', 'V', 'B', 'z', '-', '4', 'O', '2', '3', 'q', 'P', 'F', 'G', '5', '1', '0', 'E', 'Z', 'D', 'U', 'J', 'Y', 'K', '&', 'é', ':', ';', '9', '7', '(', 'X', '\"', '/', '8', 'Q', '$', '%', '+', '*', '?', '6', 'ê']\n"
     ]
    }
   ],
   "source": [
    "#presence of unusual characters\n",
    "commentary = df['review']\n",
    "list_of_characters = []\n",
    "for comment in commentary:\n",
    "    for character in comment:\n",
    "        if character not in list_of_characters:\n",
    "            list_of_characters.append(character)\n",
    "print(list_of_characters)"
   ]
  },
  {
   "cell_type": "code",
   "execution_count": 9,
   "id": "f050da97-05de-4fec-967a-f757c5d59b83",
   "metadata": {},
   "outputs": [
    {
     "name": "stdout",
     "output_type": "stream",
     "text": [
      "Vocabulary size:  2072\n"
     ]
    }
   ],
   "source": [
    "#identify vocabulary size\n",
    "tokenizer = Tokenizer()\n",
    "tokenizer.fit_on_texts(df['review'])\n",
    "print(\"Vocabulary size: \", len(tokenizer.word_index) + 1)"
   ]
  },
  {
   "cell_type": "code",
   "execution_count": 10,
   "id": "7eb6db24-5268-4216-a99b-871f70cd149e",
   "metadata": {},
   "outputs": [],
   "source": [
    "stop_words = stopwords.words('english')\n",
    "nlist = ['no', 'nor', 'not', 'don', \"don't\", 'ain', 'aren', \"aren't\", 'couldn', \"couldn't\", 'didn', \"didn't\", 'doesn', \"doesn't\", 'hadn', \"hadn't\", 'hasn', \"hasn't\", 'haven', \"haven't\", 'isn', \"isn't\", 'ma', 'mightn', \"mightn't\", 'mustn', \"mustn't\", 'needn', \"needn't\", 'shan', \"shan't\", 'shouldn', \"shouldn't\", 'wasn', \"wasn't\", 'weren', \"weren't\", \"won't\", 'wouldn', \"wouldn't\"]\n",
    "review_mod = []\n",
    "for description in df.review:\n",
    "    description = [word for word in description.split(' ') if ((word in nlist) or (not word in stop_words))]\n",
    "    description=\" \".join(description)\n",
    "    review_mod.append(description)"
   ]
  },
  {
   "cell_type": "code",
   "execution_count": 11,
   "id": "a91c6954-bc7c-46d9-a9e7-e6640470fed7",
   "metadata": {},
   "outputs": [
    {
     "data": {
      "text/plain": [
       "'Crust not good.'"
      ]
     },
     "execution_count": 11,
     "metadata": {},
     "output_type": "execute_result"
    }
   ],
   "source": [
    "review_mod[1]"
   ]
  },
  {
   "cell_type": "code",
   "execution_count": 12,
   "id": "056b5054-d04e-485c-aa8a-6e476e71312e",
   "metadata": {},
   "outputs": [
    {
     "name": "stdout",
     "output_type": "stream",
     "text": [
      "The maximum length of our sequences would be:  20\n",
      "The median length of our sequences would be:  6.0\n",
      "The minimum length of our sequences would be:  1\n"
     ]
    }
   ],
   "source": [
    "review_length= []\n",
    "for char_len in review_mod:\n",
    "    review_length.append(len(char_len.split(' ')))\n",
    "    \n",
    "review_max = np.max(review_length)\n",
    "review_min = np.min(review_length)\n",
    "review_median = np.median(review_length)\n",
    "print(\"The maximum length of our sequences would be: \", review_max)\n",
    "print(\"The median length of our sequences would be: \", review_median)\n",
    "print(\"The minimum length of our sequences would be: \", review_min)"
   ]
  },
  {
   "cell_type": "code",
   "execution_count": 13,
   "id": "217d52fb-a8c5-4577-be19-50825021e839",
   "metadata": {},
   "outputs": [],
   "source": [
    "review_list = []\n",
    "for rev in review_mod:\n",
    "    rev = re.sub(\"[^a-zA-Z]\",\" \", rev)  #remove special characters\n",
    "    rev = rev.lower() #convert to lower case\n",
    "    rev = nltk.word_tokenize(rev) #perform tokenization\n",
    "    lemma = nltk.WordNetLemmatizer()  #perform lemmatization\n",
    "    rev = [lemma.lemmatize(word) for word in rev]\n",
    "    review_list.append(rev)"
   ]
  },
  {
   "cell_type": "code",
   "execution_count": 14,
   "id": "b4810673-75ec-4462-8211-ce55296815e9",
   "metadata": {},
   "outputs": [
    {
     "data": {
      "text/plain": [
       "['crust', 'not', 'good']"
      ]
     },
     "execution_count": 14,
     "metadata": {},
     "output_type": "execute_result"
    }
   ],
   "source": [
    "review_list [1]"
   ]
  },
  {
   "cell_type": "code",
   "execution_count": 15,
   "id": "57523b03-2bb1-4822-be43-319c5e71a059",
   "metadata": {},
   "outputs": [
    {
     "name": "stdout",
     "output_type": "stream",
     "text": [
      "Vocabulary size:  1869\n"
     ]
    }
   ],
   "source": [
    "#identify vocabulary size again\n",
    "tokenizer = Tokenizer()\n",
    "tokenizer.fit_on_texts(review_list)\n",
    "vocab_size = len(tokenizer.word_index) + 1 \n",
    "print(\"Vocabulary size: \", vocab_size)"
   ]
  },
  {
   "cell_type": "code",
   "execution_count": 16,
   "id": "1eddf588-48a1-462e-87b4-526f0bbb9957",
   "metadata": {},
   "outputs": [
    {
     "name": "stdout",
     "output_type": "stream",
     "text": [
      "Word Embedding Length:  7\n"
     ]
    }
   ],
   "source": [
    "#Identify the word embedding length\n",
    "max_sequence_embedding = int(round(np.sqrt(np.sqrt(vocab_size)),0))\n",
    "print(\"Word Embedding Length: \",max_sequence_embedding)"
   ]
  },
  {
   "cell_type": "code",
   "execution_count": 17,
   "id": "2a2944c7-1f81-4798-b340-b7c9dcbb6b35",
   "metadata": {},
   "outputs": [],
   "source": [
    "encoded_doc = tokenizer.texts_to_sequences(review_list)"
   ]
  },
  {
   "cell_type": "code",
   "execution_count": 18,
   "id": "bc76d26f-7254-4996-b452-0a70bedf3b03",
   "metadata": {},
   "outputs": [
    {
     "name": "stdout",
     "output_type": "stream",
     "text": [
      "['crust', 'not', 'good']\n",
      "[537, 4, 7]\n"
     ]
    }
   ],
   "source": [
    "print(review_list [1])\n",
    "print(encoded_doc [1])"
   ]
  },
  {
   "cell_type": "code",
   "execution_count": 19,
   "id": "f2d5188c-d513-40a8-b3d3-6ad572ccfa1e",
   "metadata": {},
   "outputs": [],
   "source": [
    "#padding data\n",
    "maxlen = 20\n",
    "encoded_doc = pad_sequences(encoded_doc, maxlen=maxlen)"
   ]
  },
  {
   "cell_type": "code",
   "execution_count": 20,
   "id": "9abcc080-b733-4b79-a353-69818c13db47",
   "metadata": {},
   "outputs": [
    {
     "name": "stdout",
     "output_type": "stream",
     "text": [
      "[  0   0   0   0   0   0   0   0   0   0   0   0   0   0   0   0   0 537\n",
      "   4   7]\n"
     ]
    }
   ],
   "source": [
    "print (encoded_doc[1])"
   ]
  },
  {
   "cell_type": "code",
   "execution_count": 21,
   "id": "dfe02bad-760f-4165-ac7b-6912968a8b83",
   "metadata": {},
   "outputs": [],
   "source": [
    "#split data\n",
    "X = encoded_doc\n",
    "y = df['sentiment'].values\n",
    "\n",
    "X_train, X_test, y_train, y_test = train_test_split(X, y, test_size=0.20, random_state=40)"
   ]
  },
  {
   "cell_type": "code",
   "execution_count": 22,
   "id": "972805e2-50e0-457e-9fbe-2c03de69008c",
   "metadata": {},
   "outputs": [
    {
     "name": "stdout",
     "output_type": "stream",
     "text": [
      "(800, 20) (200, 20)\n"
     ]
    }
   ],
   "source": [
    "print(X_train.shape, X_test.shape)"
   ]
  },
  {
   "cell_type": "code",
   "execution_count": 23,
   "id": "3c687f58-8641-4bde-a4c1-ed5ccc73df23",
   "metadata": {},
   "outputs": [],
   "source": [
    "pd.DataFrame(X_train).to_csv(r'C:\\Users\\Masey\\Documents\\School Work\\D213\\X_train.csv')\n",
    "pd.DataFrame(X_test).to_csv(r'C:\\Users\\Masey\\Documents\\School Work\\D213\\X_test.csv')\n",
    "pd.DataFrame(y_train).to_csv(r'C:\\Users\\Masey\\Documents\\School Work\\D213\\y_train.csv')\n",
    "pd.DataFrame(y_test).to_csv(r'C:\\Users\\Masey\\Documents\\School Work\\D213\\y_test.csv')"
   ]
  },
  {
   "cell_type": "code",
   "execution_count": 24,
   "id": "f8a69bb8-729d-42aa-ad30-169848f202e1",
   "metadata": {},
   "outputs": [
    {
     "data": {
      "text/plain": [
       "array([[   0,    0,    0, ..., 1833,  563,  145],\n",
       "       [   0,    0,    0, ...,  145,    3,   33],\n",
       "       [   0,    0,    0, ...,  593,  253,  112],\n",
       "       ...,\n",
       "       [   0,    0,    0, ...,   12,  246,  835],\n",
       "       [   0,    0,    0, ..., 1067,   97, 1068],\n",
       "       [   0,    0,    0, ...,   51,    6,   50]])"
      ]
     },
     "execution_count": 24,
     "metadata": {},
     "output_type": "execute_result"
    }
   ],
   "source": [
    "X_train"
   ]
  },
  {
   "cell_type": "code",
   "execution_count": 97,
   "id": "283a737c-d4a8-4ea9-9d94-08c5ec7fa44c",
   "metadata": {},
   "outputs": [],
   "source": [
    "#build LSTM Network\n",
    "embed_size = 32\n",
    "\n",
    "early_stopping_monitor = EarlyStopping(patience=2)\n",
    "\n",
    "model = Sequential()\n",
    "model.add(Embedding(vocab_size, embed_size, input_length = maxlen))\n",
    "model.add(LSTM(units=60, activation='tanh'))\n",
    "model.add(Dense(units=1, activation='sigmoid'))\n",
    "\n",
    "model.compile(optimizer='adam', loss='binary_crossentropy', metrics='accuracy')"
   ]
  },
  {
   "cell_type": "code",
   "execution_count": 98,
   "id": "c4a31153-7687-4b86-8206-3ba6d3531ace",
   "metadata": {},
   "outputs": [
    {
     "name": "stdout",
     "output_type": "stream",
     "text": [
      "Model: \"sequential_8\"\n",
      "_________________________________________________________________\n",
      "Layer (type)                 Output Shape              Param #   \n",
      "=================================================================\n",
      "embedding_8 (Embedding)      (None, 20, 32)            59808     \n",
      "_________________________________________________________________\n",
      "lstm_8 (LSTM)                (None, 60)                22320     \n",
      "_________________________________________________________________\n",
      "dense_8 (Dense)              (None, 1)                 61        \n",
      "=================================================================\n",
      "Total params: 82,189\n",
      "Trainable params: 82,189\n",
      "Non-trainable params: 0\n",
      "_________________________________________________________________\n"
     ]
    }
   ],
   "source": [
    "model.summary()"
   ]
  },
  {
   "cell_type": "code",
   "execution_count": 99,
   "id": "0a46b43e-5f37-49d1-b644-83075cc53bbd",
   "metadata": {},
   "outputs": [
    {
     "name": "stdout",
     "output_type": "stream",
     "text": [
      "Epoch 1/20\n",
      "25/25 [==============================] - 6s 62ms/step - loss: 0.6913 - accuracy: 0.5200 - val_loss: 0.6918 - val_accuracy: 0.4400\n",
      "Epoch 2/20\n",
      "25/25 [==============================] - 0s 20ms/step - loss: 0.6645 - accuracy: 0.6438 - val_loss: 0.6961 - val_accuracy: 0.4850\n",
      "Epoch 3/20\n",
      "25/25 [==============================] - 1s 21ms/step - loss: 0.5451 - accuracy: 0.7738 - val_loss: 0.5307 - val_accuracy: 0.7100\n",
      "Epoch 4/20\n",
      "25/25 [==============================] - 1s 21ms/step - loss: 0.3641 - accuracy: 0.8938 - val_loss: 0.5218 - val_accuracy: 0.7150\n",
      "Epoch 5/20\n",
      "25/25 [==============================] - 1s 21ms/step - loss: 0.2222 - accuracy: 0.9300 - val_loss: 0.4600 - val_accuracy: 0.8050\n",
      "Epoch 6/20\n",
      "25/25 [==============================] - 1s 20ms/step - loss: 0.1448 - accuracy: 0.9613 - val_loss: 0.5226 - val_accuracy: 0.8100\n",
      "Epoch 7/20\n",
      "25/25 [==============================] - 1s 20ms/step - loss: 0.1108 - accuracy: 0.9712 - val_loss: 0.4866 - val_accuracy: 0.8300\n"
     ]
    }
   ],
   "source": [
    "history = model.fit(X_train, y_train, epochs=20, batch_size = 32, callbacks=[early_stopping_monitor], validation_data=(X_test, y_test), verbose=True)"
   ]
  },
  {
   "cell_type": "code",
   "execution_count": 100,
   "id": "21d83c62-e521-4329-9860-c6fb0f5e2a86",
   "metadata": {},
   "outputs": [
    {
     "data": {
      "text/plain": [
       "{'loss': [0.6913062930107117,\n",
       "  0.664508581161499,\n",
       "  0.5451111197471619,\n",
       "  0.3640877604484558,\n",
       "  0.2221764773130417,\n",
       "  0.14484277367591858,\n",
       "  0.11075608432292938],\n",
       " 'accuracy': [0.5199999809265137,\n",
       "  0.643750011920929,\n",
       "  0.7737500071525574,\n",
       "  0.893750011920929,\n",
       "  0.9300000071525574,\n",
       "  0.9612500071525574,\n",
       "  0.9712499976158142],\n",
       " 'val_loss': [0.6918187141418457,\n",
       "  0.6960535645484924,\n",
       "  0.5307176113128662,\n",
       "  0.5218402743339539,\n",
       "  0.45996275544166565,\n",
       "  0.5226386189460754,\n",
       "  0.48663148283958435],\n",
       " 'val_accuracy': [0.4399999976158142,\n",
       "  0.48500001430511475,\n",
       "  0.7099999785423279,\n",
       "  0.7149999737739563,\n",
       "  0.8050000071525574,\n",
       "  0.8100000023841858,\n",
       "  0.8299999833106995]}"
      ]
     },
     "execution_count": 100,
     "metadata": {},
     "output_type": "execute_result"
    }
   ],
   "source": [
    "history.history"
   ]
  },
  {
   "cell_type": "code",
   "execution_count": 101,
   "id": "3c73cad2-c98a-4a61-bb5c-e45ab622b294",
   "metadata": {},
   "outputs": [],
   "source": [
    "def plot_learningCurve(history, epochs):\n",
    "    epoch_range = range(1, epochs+1)\n",
    "    plt.plot(epoch_range, history.history['accuracy'])\n",
    "    plt.plot(epoch_range, history.history['val_accuracy'])\n",
    "    plt.title('Model Accuracy')\n",
    "    plt.ylabel('Accuracy')\n",
    "    plt.xlabel('Epoch')\n",
    "    plt.legend(['Train', 'Val'], loc='upper left')\n",
    "    plt.show()\n",
    "    plt.plot(epoch_range, history.history['loss'])\n",
    "    plt.plot(epoch_range, history.history['val_loss'])\n",
    "    plt.title('Model Loss')\n",
    "    plt.ylabel('Loss')\n",
    "    plt.xlabel('Epoch')\n",
    "    plt.legend(['Train', 'Val'], loc='upper left')\n",
    "    plt.show()"
   ]
  },
  {
   "cell_type": "code",
   "execution_count": 102,
   "id": "36eddf32-a2d0-4a8a-ad2a-8982494f85ce",
   "metadata": {},
   "outputs": [
    {
     "data": {
      "image/png": "[encoded data removed]",
      "text/plain": [
       "<Figure size 432x288 with 1 Axes>"
      ]
     },
     "metadata": {
      "needs_background": "light"
     },
     "output_type": "display_data"
    },
    {
     "data": {
      "image/png": "[encoded data removed]",
      "text/plain": [
       "<Figure size 432x288 with 1 Axes>"
      ]
     },
     "metadata": {
      "needs_background": "light"
     },
     "output_type": "display_data"
    }
   ],
   "source": [
    "plot_learningCurve(history, 7)\n"
   ]
  },
  {
   "cell_type": "code",
   "execution_count": 103,
   "id": "aaf2607a-0ccc-4d71-a113-a8e1018f88b7",
   "metadata": {},
   "outputs": [
    {
     "name": "stdout",
     "output_type": "stream",
     "text": [
      "7/7 [==============================] - 0s 10ms/step - loss: 0.4866 - accuracy: 0.8300\n"
     ]
    },
    {
     "data": {
      "text/plain": [
       "[0.48663148283958435, 0.8299999833106995]"
      ]
     },
     "execution_count": 103,
     "metadata": {},
     "output_type": "execute_result"
    }
   ],
   "source": [
    "#evaluate the model against test data\n",
    "model.evaluate(X_test, y_test)"
   ]
  },
  {
   "cell_type": "code",
   "execution_count": 104,
   "id": "19297a0d-faa8-403d-b492-c7c3c7ac8daf",
   "metadata": {},
   "outputs": [],
   "source": [
    "model.save('SentimentAnalysisModel.h5')"
   ]
  },
  {
   "cell_type": "code",
   "execution_count": null,
   "id": "724d0f48-ea49-4293-b141-70a5729342cd",
   "metadata": {},
   "outputs": [],
   "source": []
  }
 ],
 "metadata": {
  "kernelspec": {
   "display_name": "Python 3 (ipykernel)",
   "language": "python",
   "name": "python3"
  },
  "language_info": {
   "codemirror_mode": {
    "name": "ipython",
    "version": 3
   },
   "file_extension": ".py",
   "mimetype": "text/x-python",
   "name": "python",
   "nbconvert_exporter": "python",
   "pygments_lexer": "ipython3",
   "version": "3.9.7"
  }
 },
 "nbformat": 4,
 "nbformat_minor": 5
}
